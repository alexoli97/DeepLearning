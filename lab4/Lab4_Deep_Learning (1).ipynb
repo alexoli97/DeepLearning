{
  "nbformat": 4,
  "nbformat_minor": 0,
  "metadata": {
    "colab": {
      "provenance": []
    },
    "kernelspec": {
      "name": "python3",
      "display_name": "Python 3"
    },
    "language_info": {
      "name": "python"
    }
  },
  "cells": [
    {
      "cell_type": "markdown",
      "source": [
        "GRU and LSTM are both types of recurrent neural networks (RNNs) used for sequential data tasks. They address the vanishing gradient problem of traditional RNNs, which makes them more effective at capturing long-term dependencies in sequence data.\n",
        "\n",
        "LSTM (Long Short-Term Memory): It is an RNN architecture that uses gating mechanisms to control and manage the information flow in the network. The gates of LSTM are:\n",
        "\n",
        "\n",
        "*   Forget gate: determines what information to discard from the cell state.\n",
        "*   Input gate: decides what new information to store in the cell state.\n",
        "*  Output gate: decides what information to output based on input and the current cell state.\n",
        "\n",
        "\n",
        "LSTM maintains a separate cell state which can keep information in memory for long periods of time, making it particularly good at understanding context in sentences and documents.\n",
        "\n",
        "\n",
        "GRU (Gated Recurrent Unit): GRU is a variation of LSTM designed to be more computationally efficient. Unlike LSTM, GRU has two gates:\n",
        "\n",
        "*   Update gate: similar to the forget and input gate of an LSTM. It decides what information to throw away and what new information to add.\n",
        "*   Reset gate: used to decide how much past information to forget.\n",
        "\n",
        "\n"
      ],
      "metadata": {
        "id": "W-lDz2L5NI0i"
      }
    },
    {
      "cell_type": "code",
      "source": [
        "pip install unidecode"
      ],
      "metadata": {
        "colab": {
          "base_uri": "https://localhost:8080/"
        },
        "id": "hXyfT1bDQrqF",
        "outputId": "3420be2b-d0b5-40bb-8434-435e997f1a43"
      },
      "execution_count": 1,
      "outputs": [
        {
          "output_type": "stream",
          "name": "stdout",
          "text": [
            "Looking in indexes: https://pypi.org/simple, https://us-python.pkg.dev/colab-wheels/public/simple/\n",
            "Collecting unidecode\n",
            "  Downloading Unidecode-1.3.6-py3-none-any.whl (235 kB)\n",
            "\u001b[2K     \u001b[90m━━━━━━━━━━━━━━━━━━━━━━━━━━━━━━━━━━━━━━━\u001b[0m \u001b[32m235.9/235.9 kB\u001b[0m \u001b[31m8.4 MB/s\u001b[0m eta \u001b[36m0:00:00\u001b[0m\n",
            "\u001b[?25hInstalling collected packages: unidecode\n",
            "Successfully installed unidecode-1.3.6\n"
          ]
        }
      ]
    },
    {
      "cell_type": "code",
      "execution_count": 2,
      "metadata": {
        "id": "ibFappSAQCdi"
      },
      "outputs": [],
      "source": [
        "import torch\n",
        "import torch.nn as nn\n",
        "from torch.autograd import Variable\n",
        "import unidecode\n",
        "import string\n",
        "import random\n",
        "import time\n",
        "import math\n",
        "import os\n",
        "import argparse\n",
        "\n",
        "import matplotlib.pyplot as plt\n",
        "\n",
        "from tqdm import tqdm"
      ]
    },
    {
      "cell_type": "code",
      "source": [
        "# Reading and un-unicode-encoding data\n",
        "\n",
        "all_characters = string.printable\n",
        "n_characters = len(all_characters)\n",
        "\n",
        "def read_file(filename): # reads a file and returns its content as a string along with its length\n",
        "    file = unidecode.unidecode(open(filename).read())\n",
        "    return file, len(file)\n",
        "\n",
        "# Turning a string into a tensor\n",
        "\n",
        "def char_tensor(string): # creates a tensor from a string where each character is replaced by its index in the defined dictionary\n",
        "    tensor = torch.zeros(len(string)).long()\n",
        "    for c in range(len(string)):\n",
        "        try:\n",
        "            tensor[c] = all_characters.index(string[c])\n",
        "        except:\n",
        "            continue\n",
        "    return tensor\n",
        "\n",
        "# Readable time elapsed\n",
        "\n",
        "def time_since(since):\n",
        "    s = time.time() - since\n",
        "    m = math.floor(s / 60)\n",
        "    s -= m * 60\n",
        "    return '%dm %ds' % (m, s)"
      ],
      "metadata": {
        "id": "4gilxFqxQm8J"
      },
      "execution_count": null,
      "outputs": []
    },
    {
      "cell_type": "markdown",
      "source": [
        "generate()\n",
        " function uses an RNN (decoder) to generate a sequence of characters, starting from a given prime string. It warms up the RNN with the prime string, and then generates new characters one by one, feeding each new character back into the RNN to generate the next."
      ],
      "metadata": {
        "id": "rHqmY689OtvQ"
      }
    },
    {
      "cell_type": "markdown",
      "source": [
        "hidden = decoder.init_hidden(1): This line initializes the hidden state of the decoder (a recurrent neural network). The parameter 1 indicates that the batch size is 1.\n",
        "\n",
        "prime_input = Variable(char_tensor(prime_str).unsqueeze(0)): Here, the function converts the initial string (prime_str) into a tensor that can be used as input to the RNN. This tensor is then unsqueezed to add an extra dimension for batch size, which is required by the RNN.\n",
        "\n",
        "The if cuda: block moves the hidden state and input tensors to the GPU if the cuda flag is set to True.\n",
        "\n",
        "predicted = prime_str: The predicted output string is initialized with the prime string.\n",
        "\n",
        "The first for loop iterates over the prime string (except the last character) and uses it to \"warm up\" the RNN, i.e., to establish a certain hidden state before starting the actual prediction.\n",
        "\n",
        "inp = prime_input[:,-1]: The variable inp is initialized as the last character of the prime input. This will be the first input to the prediction phase of the RNN.\n",
        "\n",
        "The second for loop generates predict_len number of characters. For each character:\n",
        "\n",
        "The RNN produces an output and an updated hidden state given the current input and hidden state.\n",
        "\n",
        "The output is transformed into a probability distribution using the softmax function (through .div(temperature).exp()) and then a character index is sampled from this distribution (torch.multinomial(output_dist, 1)[0]).\n",
        "\n",
        "The sampled character index is then converted back into a character (predicted_char = all_characters[top_i]), which is added to the predicted string.\n",
        "\n",
        "The input to the next time step of the RNN is then set to this new character.\n",
        "\n",
        "return predicted: After the loop, the function returns the generated string."
      ],
      "metadata": {
        "id": "c9SPdUmTPmvv"
      }
    },
    {
      "cell_type": "code",
      "source": [
        "def generate(decoder, prime_str='A', predict_len=100, temperature=0.8, cuda=False):\n",
        "    hidden = decoder.init_hidden(1)\n",
        "    prime_input = Variable(char_tensor(prime_str).unsqueeze(0))\n",
        "\n",
        "    if cuda:\n",
        "        hidden = hidden.cuda()\n",
        "        prime_input = prime_input.cuda()\n",
        "    predicted = prime_str\n",
        "\n",
        "    # Use priming string to \"build up\" hidden state\n",
        "    for p in range(len(prime_str) - 1):\n",
        "        _, hidden = decoder(prime_input[:,p], hidden)\n",
        "        \n",
        "    inp = prime_input[:,-1]\n",
        "    \n",
        "    for p in range(predict_len):\n",
        "        output, hidden = decoder(inp, hidden)\n",
        "        \n",
        "        # Sample from the network as a multinomial distribution\n",
        "        output_dist = output.data.view(-1).div(temperature).exp()\n",
        "        top_i = torch.multinomial(output_dist, 1)[0]\n",
        "\n",
        "        # Add predicted character to string and use as next input\n",
        "        predicted_char = all_characters[top_i]\n",
        "        predicted += predicted_char\n",
        "        inp = Variable(char_tensor(predicted_char).unsqueeze(0))\n",
        "        if cuda:\n",
        "            inp = inp.cuda()\n",
        "\n",
        "    return predicted"
      ],
      "metadata": {
        "id": "DwflIJVyQoKe"
      },
      "execution_count": null,
      "outputs": []
    },
    {
      "cell_type": "markdown",
      "source": [
        "Class CharRNN defines the architecture of the model which is composed of an embedding layer, a recurrent layer (GRU or LSTM), and a linear output layer. The model takes a batch of sequences and the hidden states as inputs and returns the output and the new hidden states."
      ],
      "metadata": {
        "id": "SyVAMh0pMONV"
      }
    },
    {
      "cell_type": "code",
      "source": [
        "class CharRNN(nn.Module):\n",
        "    def __init__(self, input_size, hidden_size, output_size, model=\"gru\", n_layers=1):\n",
        "        super(CharRNN, self).__init__()\n",
        "        self.model = model.lower()\n",
        "        self.input_size = input_size\n",
        "        self.hidden_size = hidden_size\n",
        "        self.output_size = output_size\n",
        "        self.n_layers = n_layers\n",
        "\n",
        "        self.encoder = nn.Embedding(input_size, hidden_size)\n",
        "        if self.model == \"gru\":\n",
        "            self.rnn = nn.GRU(hidden_size, hidden_size, n_layers)\n",
        "        elif self.model == \"lstm\":\n",
        "            self.rnn = nn.LSTM(hidden_size, hidden_size, n_layers)\n",
        "        self.decoder = nn.Linear(hidden_size, output_size)\n",
        "\n",
        "    def forward(self, input, hidden):\n",
        "        batch_size = input.size(0)\n",
        "        encoded = self.encoder(input)\n",
        "        output, hidden = self.rnn(encoded.view(1, batch_size, -1), hidden)\n",
        "        output = self.decoder(output.view(batch_size, -1))\n",
        "        return output, hidden\n",
        "\n",
        "    def forward2(self, input, hidden):\n",
        "        encoded = self.encoder(input.view(1, -1))\n",
        "        output, hidden = self.rnn(encoded.view(1, 1, -1), hidden)\n",
        "        output = self.decoder(output.view(1, -1))\n",
        "        return output, hidden\n",
        "\n",
        "    def init_hidden(self, batch_size):\n",
        "        if self.model == \"lstm\":\n",
        "            return (Variable(torch.zeros(self.n_layers, batch_size, self.hidden_size)),\n",
        "                    Variable(torch.zeros(self.n_layers, batch_size, self.hidden_size)))\n",
        "        return Variable(torch.zeros(self.n_layers, batch_size, self.hidden_size))"
      ],
      "metadata": {
        "id": "07rc3F44QpXZ"
      },
      "execution_count": null,
      "outputs": []
    },
    {
      "cell_type": "markdown",
      "source": [
        "Function random_training_set(chunk_len, batch_size) creates random sequences from the input file and their targets (the same sequences shifted by one character)."
      ],
      "metadata": {
        "id": "rfiV3SPBMgbn"
      }
    },
    {
      "cell_type": "code",
      "source": [
        "def random_training_set(chunk_len, batch_size):\n",
        "    inp = torch.LongTensor(batch_size, chunk_len)\n",
        "    target = torch.LongTensor(batch_size, chunk_len)\n",
        "    for bi in range(batch_size):\n",
        "        start_index = random.randint(0, file_len - chunk_len)\n",
        "        end_index = start_index + chunk_len + 1\n",
        "        chunk = file[start_index:end_index]\n",
        "        inp[bi] = char_tensor(chunk[:-1])\n",
        "        target[bi] = char_tensor(chunk[1:])\n",
        "    inp = Variable(inp)\n",
        "    target = Variable(target)\n",
        "    if cuda:\n",
        "        inp = inp.cuda()\n",
        "        target = target.cuda()\n",
        "    return inp, target\n",
        "\n",
        "def train(inp, target):\n",
        "    hidden = decoder.init_hidden(batch_size)\n",
        "    if cuda:\n",
        "        hidden = hidden.cuda()\n",
        "    decoder.zero_grad()\n",
        "    loss = 0\n",
        "\n",
        "    for c in range(chunk_len):\n",
        "        output, hidden = decoder(inp[:,c], hidden)\n",
        "        loss += criterion(output.view(batch_size, -1), target[:,c])\n",
        "\n",
        "    loss.backward()\n",
        "    decoder_optimizer.step()\n",
        "\n",
        "    return loss.data.item() / chunk_len\n",
        "\n",
        "def save():\n",
        "    save_filename = os.path.splitext(os.path.basename(filename))[0] + '.pt'\n",
        "    torch.save(decoder, save_filename)\n",
        "    print('Saved as %s' % save_filename)"
      ],
      "metadata": {
        "id": "QWSn9R8uQqnB"
      },
      "execution_count": null,
      "outputs": []
    },
    {
      "cell_type": "code",
      "source": [
        "# define args\n",
        "filename = \"/content/shakespeare.txt\"\n",
        "n_epochs = 2000\n",
        "model = \"gru\"\n",
        "print_every = 100\n",
        "hidden_size = 100\n",
        "n_layers = 2\n",
        "learning_rate = 0.01\n",
        "chunk_len = 200\n",
        "batch_size = 100\n",
        "shuffle = True\n",
        "cuda = False\n",
        "\n",
        "\n",
        "file, file_len = read_file(filename)\n",
        "\n",
        "# Initialize models and start training\n",
        "decoder = CharRNN(\n",
        "    n_characters,\n",
        "    hidden_size,\n",
        "    n_characters,\n",
        "    model=model,\n",
        "    n_layers=n_layers,\n",
        ")\n",
        "decoder_optimizer = torch.optim.Adam(decoder.parameters(), lr=learning_rate)\n",
        "criterion = nn.CrossEntropyLoss()"
      ],
      "metadata": {
        "id": "BxokCsmPQtxN"
      },
      "execution_count": null,
      "outputs": []
    },
    {
      "cell_type": "code",
      "source": [
        "if cuda:\n",
        "    decoder.cuda()\n",
        "\n",
        "start = time.time()\n",
        "all_losses = []\n",
        "loss_avg = 0\n",
        "\n",
        "perplexities = []\n",
        "\n",
        "try:\n",
        "    print(\"Training for %d epochs...\" % n_epochs)\n",
        "    for epoch in tqdm(range(1, n_epochs + 1)):\n",
        "        loss = train(*random_training_set(chunk_len, batch_size))\n",
        "        loss_avg += loss\n",
        "        perplexities.append(math.exp(loss))\n",
        "\n",
        "        if epoch % print_every == 0:\n",
        "            print('[%s (%d %d%%) %.4f]' % (time_since(start), epoch, epoch / n_epochs * 100, loss))\n",
        "            print(generate(decoder, 'Wh', 100, cuda=cuda), '\\n')\n",
        "\n",
        "    print(\"Saving...\")\n",
        "    save()\n",
        "\n",
        "except KeyboardInterrupt:\n",
        "    print(\"Saving before quit...\")\n",
        "    save()\n",
        "\n",
        "\n",
        "plt.plot(perplexities)\n",
        "plt.ylabel('Perplexity')\n",
        "plt.xlabel('Epoch')\n",
        "plt.show()"
      ],
      "metadata": {
        "colab": {
          "base_uri": "https://localhost:8080/",
          "height": 1000
        },
        "id": "4x9w0TpgQxCC",
        "outputId": "6ada70fb-9863-4fff-a0e4-ef2b01c29371"
      },
      "execution_count": null,
      "outputs": [
        {
          "output_type": "stream",
          "name": "stdout",
          "text": [
            "Training for 2000 epochs...\n"
          ]
        },
        {
          "output_type": "stream",
          "name": "stderr",
          "text": [
            "  5%|▌         | 100/2000 [01:35<28:29,  1.11it/s]"
          ]
        },
        {
          "output_type": "stream",
          "name": "stdout",
          "text": [
            "[1m 35s (100 5%) 1.7598]\n",
            "What not for yecpatie it dood heart\n",
            "Well owe joy condo of his is a hildined?\n",
            "\n",
            "PETRUCHIO:\n",
            "O brother bee \n",
            "\n"
          ]
        },
        {
          "output_type": "stream",
          "name": "stderr",
          "text": [
            " 10%|█         | 200/2000 [03:06<30:55,  1.03s/it]"
          ]
        },
        {
          "output_type": "stream",
          "name": "stdout",
          "text": [
            "[3m 6s (200 10%) 1.5577]\n",
            "What shall seeds\n",
            "For my near better the heard, but not be:\n",
            "What why, then shall fure the criefter?\n",
            "\n",
            "GR \n",
            "\n"
          ]
        },
        {
          "output_type": "stream",
          "name": "stderr",
          "text": [
            " 15%|█▌        | 300/2000 [04:37<29:36,  1.05s/it]"
          ]
        },
        {
          "output_type": "stream",
          "name": "stdout",
          "text": [
            "[4m 37s (300 15%) 1.4868]\n",
            "Where we great sir!\n",
            "\n",
            "TyGRS:\n",
            "Or besop of York from your lords, lords, and beseech,\n",
            "As the evers by the  \n",
            "\n"
          ]
        },
        {
          "output_type": "stream",
          "name": "stderr",
          "text": [
            " 20%|██        | 400/2000 [06:07<26:27,  1.01it/s]"
          ]
        },
        {
          "output_type": "stream",
          "name": "stdout",
          "text": [
            "[6m 6s (400 20%) 1.4755]\n",
            "What's upon his sighs of so;\n",
            "And have my fangering in thee you there country:\n",
            "Though a contriciment.\n",
            "W \n",
            "\n"
          ]
        },
        {
          "output_type": "stream",
          "name": "stderr",
          "text": [
            " 25%|██▌       | 500/2000 [07:36<23:50,  1.05it/s]"
          ]
        },
        {
          "output_type": "stream",
          "name": "stdout",
          "text": [
            "[7m 36s (500 25%) 1.4162]\n",
            "What harm Menour hath good from him.\n",
            "\n",
            "Third Murders, show she,\n",
            "To with cause thou lost the dawn mea.\n",
            "\n",
            " \n",
            "\n"
          ]
        },
        {
          "output_type": "stream",
          "name": "stderr",
          "text": [
            " 30%|███       | 600/2000 [09:06<21:56,  1.06it/s]"
          ]
        },
        {
          "output_type": "stream",
          "name": "stdout",
          "text": [
            "[9m 6s (600 30%) 1.4237]\n",
            "Where a tower, all most\n",
            "It but with the distreford?\n",
            "\n",
            "First Servition:\n",
            "My heart, for matters, what brot \n",
            "\n"
          ]
        },
        {
          "output_type": "stream",
          "name": "stderr",
          "text": [
            " 35%|███▌      | 700/2000 [10:35<20:01,  1.08it/s]"
          ]
        },
        {
          "output_type": "stream",
          "name": "stdout",
          "text": [
            "[10m 35s (700 35%) 1.3828]\n",
            "Where all this holy fellow.\n",
            "\n",
            "ANGELO:\n",
            "They shall to apt thyself off with me;\n",
            "I think, it worthy member  \n",
            "\n"
          ]
        },
        {
          "output_type": "stream",
          "name": "stderr",
          "text": [
            " 40%|████      | 800/2000 [12:05<18:25,  1.09it/s]"
          ]
        },
        {
          "output_type": "stream",
          "name": "stdout",
          "text": [
            "[12m 5s (800 40%) 1.3934]\n",
            "Where was, in your coron.\n",
            "See the devileds, and lose to my well, appear that you since a dear\n",
            "maintaim \n",
            "\n"
          ]
        },
        {
          "output_type": "stream",
          "name": "stderr",
          "text": [
            " 45%|████▌     | 900/2000 [13:34<16:36,  1.10it/s]"
          ]
        },
        {
          "output_type": "stream",
          "name": "stdout",
          "text": [
            "[13m 34s (900 45%) 1.3909]\n",
            "Which man for the man artiest;\n",
            "For he were her better before to his man\n",
            "The last here to all the dishe \n",
            "\n"
          ]
        },
        {
          "output_type": "stream",
          "name": "stderr",
          "text": [
            " 50%|█████     | 1000/2000 [15:04<14:56,  1.12it/s]"
          ]
        },
        {
          "output_type": "stream",
          "name": "stdout",
          "text": [
            "[15m 4s (1000 50%) 1.3925]\n",
            "What's my fairer, when cause for the earth:\n",
            "And not be shall forguage shall make down the\n",
            "man: seems,  \n",
            "\n"
          ]
        },
        {
          "output_type": "stream",
          "name": "stderr",
          "text": [
            " 55%|█████▌    | 1100/2000 [16:34<13:25,  1.12it/s]"
          ]
        },
        {
          "output_type": "stream",
          "name": "stdout",
          "text": [
            "[16m 34s (1100 55%) 1.3620]\n",
            "Why do come that he all the sorrow.\n",
            "\n",
            "KING LEWIS XI:\n",
            "Be a stand--\n",
            "If you must come by him, take done,\n",
            "B \n",
            "\n"
          ]
        },
        {
          "output_type": "stream",
          "name": "stderr",
          "text": [
            " 60%|██████    | 1200/2000 [18:03<11:40,  1.14it/s]"
          ]
        },
        {
          "output_type": "stream",
          "name": "stdout",
          "text": [
            "[18m 3s (1200 60%) 1.3558]\n",
            "Which I say, be stabs.\n",
            "\n",
            "GREGORTE:\n",
            "Now, will, what news in sits in the blood:\n",
            "My stirrills done of past \n",
            "\n"
          ]
        },
        {
          "output_type": "stream",
          "name": "stderr",
          "text": [
            " 65%|██████▌   | 1300/2000 [19:33<10:07,  1.15it/s]"
          ]
        },
        {
          "output_type": "stream",
          "name": "stdout",
          "text": [
            "[19m 33s (1300 65%) 1.3625]\n",
            "Whit you will cut a grace thus: where I pray\n",
            "the marring blood and the son from a lesser.\n",
            "\n",
            "ARCHBISHOP  \n",
            "\n"
          ]
        },
        {
          "output_type": "stream",
          "name": "stderr",
          "text": [
            " 70%|███████   | 1400/2000 [21:03<08:48,  1.14it/s]"
          ]
        },
        {
          "output_type": "stream",
          "name": "stdout",
          "text": [
            "[21m 3s (1400 70%) 1.3772]\n",
            "What fears this with my hasten,\n",
            "Until have talk in hand, and so plain thee\n",
            "his meet the husprince and  \n",
            "\n"
          ]
        },
        {
          "output_type": "stream",
          "name": "stderr",
          "text": [
            " 75%|███████▌  | 1500/2000 [22:34<07:07,  1.17it/s]"
          ]
        },
        {
          "output_type": "stream",
          "name": "stdout",
          "text": [
            "[22m 34s (1500 75%) 1.3414]\n",
            "What is he pays to love the were's prison\n",
            "My lert warlive and\n",
            "aboar. Can not, and foring suffer's righ \n",
            "\n"
          ]
        },
        {
          "output_type": "stream",
          "name": "stderr",
          "text": [
            " 80%|████████  | 1600/2000 [24:04<05:42,  1.17it/s]"
          ]
        },
        {
          "output_type": "stream",
          "name": "stdout",
          "text": [
            "[24m 4s (1600 80%) 1.3601]\n",
            "Who ever have day:\n",
            "The foes is at yours. May on his name have men's\n",
            "That I sayorreve and not away.\n",
            "\n",
            "Fi \n",
            "\n"
          ]
        },
        {
          "output_type": "stream",
          "name": "stderr",
          "text": [
            " 85%|████████▌ | 1700/2000 [25:34<04:15,  1.17it/s]"
          ]
        },
        {
          "output_type": "stream",
          "name": "stdout",
          "text": [
            "[25m 34s (1700 85%) 1.3366]\n",
            "Which\n",
            "have I live be golden out me: I cannot\n",
            "A wind, and hang of my horse enemies,\n",
            "With like a monious \n",
            "\n"
          ]
        },
        {
          "output_type": "stream",
          "name": "stderr",
          "text": [
            " 90%|█████████ | 1800/2000 [27:04<02:49,  1.18it/s]"
          ]
        },
        {
          "output_type": "stream",
          "name": "stdout",
          "text": [
            "[27m 4s (1800 90%) 1.3184]\n",
            "Who are Alackly of worse to be honour;\n",
            "But instant hour with me: whose face of Buckingham.\n",
            "\n",
            "WARWICK:\n",
            "I \n",
            "\n"
          ]
        },
        {
          "output_type": "stream",
          "name": "stderr",
          "text": [
            " 95%|█████████▌| 1900/2000 [28:33<01:26,  1.16it/s]"
          ]
        },
        {
          "output_type": "stream",
          "name": "stdout",
          "text": [
            "[28m 33s (1900 95%) 1.3461]\n",
            "What, what he say my father living was;\n",
            "But she wishal she shall let the discovered for\n",
            "time still, th \n",
            "\n"
          ]
        },
        {
          "output_type": "stream",
          "name": "stderr",
          "text": [
            "100%|██████████| 2000/2000 [30:03<00:00,  1.11it/s]"
          ]
        },
        {
          "output_type": "stream",
          "name": "stdout",
          "text": [
            "[30m 3s (2000 100%) 1.3523]\n",
            "What may for their grave to take the princely of the\n",
            "entisk him not she a braceles heart\n",
            "Is a light th \n",
            "\n",
            "Saving...\n",
            "Saved as shakespeare.pt\n"
          ]
        },
        {
          "output_type": "stream",
          "name": "stderr",
          "text": [
            "\n"
          ]
        },
        {
          "output_type": "display_data",
          "data": {
            "text/plain": [
              "<Figure size 640x480 with 1 Axes>"
            ],
            "image/png": "[encoded data removed]"
          },
          "metadata": {}
        }
      ]
    },
    {
      "cell_type": "code",
      "source": [
        "# if we ignore some of the first epochs we get a much clearer graph\n",
        "plt.plot(perplexities[10:])\n",
        "plt.ylabel('Perplexity')\n",
        "plt.xlabel('Epoch')\n",
        "plt.show()"
      ],
      "metadata": {
        "colab": {
          "base_uri": "https://localhost:8080/",
          "height": 449
        },
        "id": "ppyhC9ZkQy1f",
        "outputId": "3e75f194-4375-4ca2-ccc8-c1d2298d452a"
      },
      "execution_count": null,
      "outputs": [
        {
          "output_type": "display_data",
          "data": {
            "text/plain": [
              "<Figure size 640x480 with 1 Axes>"
            ],
            "image/png": "[encoded data removed]"
          },
          "metadata": {}
        }
      ]
    },
    {
      "cell_type": "markdown",
      "source": [
        "The perplexity is a measure of how well the model predicts a sample and it is typically used to compare the performance of different language models. The lower the perplexity, the better the model is at predicting the sample."
      ],
      "metadata": {
        "id": "1bedajibNulY"
      }
    },
    {
      "cell_type": "markdown",
      "source": [
        "PART 2"
      ],
      "metadata": {
        "id": "jBdO7ZzZQ0Lb"
      }
    },
    {
      "cell_type": "code",
      "source": [
        "import string\n",
        "import random\n",
        "\n",
        "def randomString(len):\n",
        "    s = \"\"\n",
        "    for i in range(len):\n",
        "        s = s + random.choice(string.printable)\n",
        "    return s"
      ],
      "metadata": {
        "id": "dC_PiescQ0pP"
      },
      "execution_count": null,
      "outputs": []
    },
    {
      "cell_type": "code",
      "source": [
        "decoder = torch.load(\"shakespeare.pt\")\n",
        "\n",
        "for i in range(5):\n",
        "    prime_string = randomString(5)\n",
        "    print(\"======Prime string:\",prime_string,\"======\")\n",
        "    print(generate(decoder, prime_str=prime_string))"
      ],
      "metadata": {
        "colab": {
          "base_uri": "https://localhost:8080/"
        },
        "id": "vo-JpQVJQ3KB",
        "outputId": "e5a6a801-52a4-4ce9-a094-84f2204ea641"
      },
      "execution_count": null,
      "outputs": [
        {
          "output_type": "stream",
          "name": "stdout",
          "text": [
            "======Prime string: ZGRt: ======\n",
            "ZGRt:\n",
            "My lord, her poor England, should but the king\n",
            "The warlikes of mine hopeful heavy sovereign,\n",
            "Nor wi\n",
            "======Prime string: i?F]Z ======\n",
            "i?F]ZO:\n",
            "O, it day, fie, I have well.\n",
            "\n",
            "MARCIUS:\n",
            "He hath been threadly deserved natures, upon she his persu\n",
            "======Prime string: XeNnI ======\n",
            "XeNnI statier his son, I shall bear the rest\n",
            "the king of like of ground to the socked got or funiut.\n",
            "\n",
            "KIN\n",
            "======Prime string: cQzCc ======\n",
            "cQzCcance good needle brother,\n",
            "And you must find a love to the bosoms' love,\n",
            "To seem that sound from hims\n",
            "======Prime string: Le8Dd ======\n",
            "Le8Ddlass'd his plarers: a king, deputy'd,\n",
            "The horse or his son son pressish trougherent.\n",
            "\n",
            "DUKE VINCENTIO\n"
          ]
        }
      ]
    },
    {
      "cell_type": "markdown",
      "source": [
        "PART 3"
      ],
      "metadata": {
        "id": "5gx48zWERETG"
      }
    },
    {
      "cell_type": "code",
      "source": [
        "prime_string = \"The\"\n",
        "print(\"Prime string:\",prime_string)\n",
        "print(generate(decoder, prime_str=prime_string))"
      ],
      "metadata": {
        "colab": {
          "base_uri": "https://localhost:8080/"
        },
        "id": "WDRHCw5EQ4U2",
        "outputId": "61792668-d6d1-42d5-e2af-d66470e25b21"
      },
      "execution_count": null,
      "outputs": [
        {
          "output_type": "stream",
          "name": "stdout",
          "text": [
            "Prime string: The\n",
            "The heart of hands, if he had now spy to worship\n",
            "You say I am such undone to my dreament.\n",
            "\n",
            "BUCKINGHAM:\n",
            "\n"
          ]
        }
      ]
    },
    {
      "cell_type": "code",
      "source": [
        "prime_string = \"What is\"\n",
        "print(\"Prime string:\",prime_string)\n",
        "print(generate(decoder, prime_str=prime_string))"
      ],
      "metadata": {
        "colab": {
          "base_uri": "https://localhost:8080/"
        },
        "id": "JA4_WiMTQ5aL",
        "outputId": "ce35f676-4d6d-4f52-fed3-a7099e5e5e3c"
      },
      "execution_count": null,
      "outputs": [
        {
          "output_type": "stream",
          "name": "stdout",
          "text": [
            "Prime string: What is\n",
            "What is the debt home, our son, wherein in the revounting sorror\n",
            "Montuned yet to our house, the thought, or\n"
          ]
        }
      ]
    },
    {
      "cell_type": "code",
      "source": [
        "prime_string = \"Shall I give\"\n",
        "print(\"Prime string:\",prime_string)\n",
        "print(generate(decoder, prime_str=prime_string))"
      ],
      "metadata": {
        "colab": {
          "base_uri": "https://localhost:8080/"
        },
        "id": "r4q3a5uFQ6cn",
        "outputId": "d9b69057-c527-4023-9e44-fd08bcbc38e9"
      },
      "execution_count": null,
      "outputs": [
        {
          "output_type": "stream",
          "name": "stdout",
          "text": [
            "Prime string: Shall I give\n",
            "Shall I give him, if what they maid their state,\n",
            "Which waters of the hands of his word and meet\n",
            "Myrruly that thi\n"
          ]
        }
      ]
    },
    {
      "cell_type": "code",
      "source": [
        "prime_string = \"X087hNYB BHN BYFVuhsdbs\"\n",
        "print(\"Prime string:\",prime_string)\n",
        "print(generate(decoder, prime_str=prime_string))"
      ],
      "metadata": {
        "colab": {
          "base_uri": "https://localhost:8080/"
        },
        "id": "kH7sbfJLQ7cw",
        "outputId": "a4fd9a0d-2721-45ae-fc6a-732ce4acfd39"
      },
      "execution_count": null,
      "outputs": [
        {
          "output_type": "stream",
          "name": "stdout",
          "text": [
            "Prime string: X087hNYB BHN BYFVuhsdbs\n",
            "X087hNYB BHN BYFVuhsdbselves:\n",
            "His comingary, whose my lord, myself\n",
            "And stand in me, whose breath and desired,\n",
            "And there's n\n"
          ]
        }
      ]
    },
    {
      "cell_type": "markdown",
      "source": [
        "**What are Language Models? Where and how are Language Models used?**"
      ],
      "metadata": {
        "id": "1jOFuvBuRJFn"
      }
    },
    {
      "cell_type": "markdown",
      "source": [
        "Language Models are a type of models in Natural Language Processing (NLP) that are trained to predict the next word/character in a sequence. Language models learn the probability distribution of a sequence of words, effectively learning the context and semantics of a language. They are widely used in applications like machine translation, speech recognition, text generation, autocorrect, autocomplete, and many others."
      ],
      "metadata": {
        "id": "WHuuDaoYRIW1"
      }
    },
    {
      "cell_type": "markdown",
      "source": [
        "**How can you use a trained Char-RNN model as a Character Level Language Model?**"
      ],
      "metadata": {
        "id": "ycqEKJRYRVVV"
      }
    },
    {
      "cell_type": "markdown",
      "source": [
        "A trained Char-RNN model can be used as a Character Level Language Model by feeding it a sequence of characters (a \"primer\" or \"seed\" string) and having it predict the next character. You can then take that predicted character, add it to your input sequence, and ask the model to predict the next character again. Repeating this process allows you to generate new text character by character."
      ],
      "metadata": {
        "id": "HF-cujlARxBc"
      }
    },
    {
      "cell_type": "markdown",
      "source": [
        "**How can you train a Word Level Language Model?**"
      ],
      "metadata": {
        "id": "JP7WdRlORlUe"
      }
    },
    {
      "cell_type": "markdown",
      "source": [
        "Training a Word Level Language Model involves the same principles as training a character level model, but with words as the discrete units of meaning instead of characters. The text corpus is tokenized into words, and the model is trained to predict the next word given a sequence of previous words. The word sequences are often embedded into a higher dimensional space (using techniques like Word2Vec or GloVe) before being fed into the model."
      ],
      "metadata": {
        "id": "fbnQZfvuRytu"
      }
    },
    {
      "cell_type": "markdown",
      "source": [
        "**Formally describe the inference model that an RNN trained to predict the next word represents?**"
      ],
      "metadata": {
        "id": "8g0ErZYFRn6j"
      }
    },
    {
      "cell_type": "markdown",
      "source": [
        "An RNN used in this way is modeling the conditional probability of the next word given all the previous words.\n",
        "\n",
        "For instance, let's consider a simplified example. Given the three words \"I like apples\", an RNN language model might learn to associate high probability with the word \"apples\" following \"I like\", because in its training data, \"apples\" often follow \"I like\". This is a form of conditional probability - the probability of a certain word, given the previous words.\n",
        "\n",
        "Formally, this can be represented as P(word_n | word_1, word_2, ..., word_n-1) - the probability of the nth word given all the words before it."
      ],
      "metadata": {
        "id": "BZ3hUQRNR0hs"
      }
    },
    {
      "cell_type": "markdown",
      "source": [
        "Example: Let's assume we have a sentence \"I enjoy playing football\". Here, we're trying to predict each word based on the words that come before it.\n",
        "\n",
        "P(\"I\") : The probability of the first word \"I\" occurring at the start of a sentence.\n",
        "\n",
        "P(\"enjoy\" | \"I\") : The probability of the word \"enjoy\" occurring given that the preceding word is \"I\". This is saying, when we have seen the word \"I\", what's the likelihood the next word is \"enjoy\"?\n",
        "\n",
        "P(\"playing\" | \"I\", \"enjoy\") : The probability of the word \"playing\" occurring given that the preceding words are \"I enjoy\". This is saying, when we have seen the words \"I enjoy\", what's the likelihood the next word is \"playing\"?\n",
        "\n",
        "P(\"football\" | \"I\", \"enjoy\", \"playing\") : The probability of the word \"football\" occurring given that the preceding words are \"I enjoy playing\". This is saying, when we have seen the words \"I enjoy playing\", what's the likelihood the next word is \"football\"?"
      ],
      "metadata": {
        "id": "Zs4bsrDRVNtB"
      }
    },
    {
      "cell_type": "markdown",
      "source": [
        " **How will you generate the \"probability of existence\" of an input sequence of words, given a trained\n",
        "RNN Language Model?**"
      ],
      "metadata": {
        "id": "0H7am9UARpqI"
      }
    },
    {
      "cell_type": "markdown",
      "source": [
        "\"Probability of existence\" in this context refers to the joint probability of a whole sequence of words as predicted by the model. For a given sequence of words, this would be the product of the probabilities of each word given the previous words.\n",
        "\n",
        "As a simple example, let's say we have a trained RNN and we want to find the \"probability of existence\" for the phrase \"I like apples\". The model would find the probability of \"I\" appearing at the start (let's say it's 0.05), then the probability of \"like\" given \"I\" (let's say it's 0.4), and then the probability of \"apples\" given \"I like\" (let's say it's 0.2). To find the joint probability of the whole phrase, you would multiply those probabilities together: 0.05 * 0.4 * 0.2 = 0.004, so the \"probability of existence\" of the phrase \"I like apples\" would be 0.004 according to this model."
      ],
      "metadata": {
        "id": "zoLOaDFNUOnk"
      }
    }
  ]
}