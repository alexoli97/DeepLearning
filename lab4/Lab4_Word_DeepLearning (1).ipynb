{
  "nbformat": 4,
  "nbformat_minor": 0,
  "metadata": {
    "colab": {
      "provenance": []
    },
    "kernelspec": {
      "name": "python3",
      "display_name": "Python 3"
    },
    "language_info": {
      "name": "python"
    }
  },
  "cells": [
    {
      "cell_type": "code",
      "source": [
        "pip install unidecode"
      ],
      "metadata": {
        "colab": {
          "base_uri": "https://localhost:8080/"
        },
        "id": "RHeWZLLKO5MI",
        "outputId": "3622d4bd-0f92-40fb-e9ea-cf20325337f8"
      },
      "execution_count": null,
      "outputs": [
        {
          "output_type": "stream",
          "name": "stdout",
          "text": [
            "Looking in indexes: https://pypi.org/simple, https://us-python.pkg.dev/colab-wheels/public/simple/\n",
            "Collecting unidecode\n",
            "  Downloading Unidecode-1.3.6-py3-none-any.whl (235 kB)\n",
            "\u001b[2K     \u001b[90m━━━━━━━━━━━━━━━━━━━━━━━━━━━━━━━━━━━━━━━\u001b[0m \u001b[32m235.9/235.9 kB\u001b[0m \u001b[31m8.3 MB/s\u001b[0m eta \u001b[36m0:00:00\u001b[0m\n",
            "\u001b[?25hInstalling collected packages: unidecode\n",
            "Successfully installed unidecode-1.3.6\n"
          ]
        }
      ]
    },
    {
      "cell_type": "code",
      "execution_count": null,
      "metadata": {
        "id": "hmvTQ-qROwb8"
      },
      "outputs": [],
      "source": [
        "import torch\n",
        "import torch.nn as nn\n",
        "from torch.autograd import Variable\n",
        "import unidecode\n",
        "import string\n",
        "import random\n",
        "import time\n",
        "import math\n",
        "import os\n",
        "import argparse\n",
        "import numpy as np\n",
        "\n",
        "import matplotlib.pyplot as plt\n",
        "\n",
        "from tqdm import tqdm"
      ]
    },
    {
      "cell_type": "code",
      "source": [
        "# Reading and un-unicode-encoding data\n",
        "\n",
        "all_characters = string.printable\n",
        "n_characters = len(all_characters)\n",
        "\n",
        "def read_file(filename):\n",
        "    file = unidecode.unidecode(open(filename).read())\n",
        "    return file, len(file)\n",
        "\n",
        "# you know what it does, keep in mind it is not a dict tho :)\n",
        "def create_dictionary(text):\n",
        "    special_characters = [' ', ':', '\\n', ',', '.', '?', \"'\", ';', '!', '-', '&']\n",
        "\n",
        "    dictionary = []\n",
        "    dataset = []\n",
        "\n",
        "    j = 0\n",
        "    for i in range(len(text)):\n",
        "        char = text[i]\n",
        "        if char in special_characters:\n",
        "            word = text[j:i]\n",
        "            if i == j:\n",
        "                word = text[j:i+1]\n",
        "                \n",
        "            if char not in dictionary:\n",
        "                dictionary.append(char)\n",
        "                \n",
        "            if word not in dictionary:\n",
        "                dictionary.append(word)\n",
        "                \n",
        "            if i != j:\n",
        "                charInd = dictionary.index(char)\n",
        "                wordInd = dictionary.index(word)\n",
        "                dataset.append([wordInd])\n",
        "                dataset.append([charInd])\n",
        "            else:\n",
        "                wordInd = dictionary.index(word)\n",
        "                dataset.append([wordInd])\n",
        "            \n",
        "            j = i+1\n",
        "        continue\n",
        "\n",
        "    return dictionary, dataset\n",
        "\n",
        "    \n",
        "# Turning a string into a tensor\n",
        "\n",
        "def char_tensor(string):\n",
        "    tensor = torch.zeros(len(string)).long()\n",
        "    for c in range(len(string)):\n",
        "        try:\n",
        "            tensor[c] = dictionary.index(string[c])\n",
        "        except:\n",
        "            continue\n",
        "    return tensor\n",
        "\n",
        "# Readable time elapsed\n",
        "\n",
        "def time_since(since):\n",
        "    s = time.time() - since\n",
        "    m = math.floor(s / 60)\n",
        "    s -= m * 60\n",
        "    return '%dm %ds' % (m, s)"
      ],
      "metadata": {
        "id": "vahNX0EGOzn4"
      },
      "execution_count": null,
      "outputs": []
    },
    {
      "cell_type": "code",
      "source": [
        "\n",
        "filename = \"/content/shakespeare.txt\"\n",
        "text = read_file(filename)[0]\n",
        "dictionary, dataset = create_dictionary(text)"
      ],
      "metadata": {
        "id": "IVv4WzS1O3s0"
      },
      "execution_count": null,
      "outputs": []
    },
    {
      "cell_type": "code",
      "source": [
        "class WordRNN(nn.Module):\n",
        "    def __init__(self, input_size, hidden_size, output_size, model=\"gru\", n_layers=1):\n",
        "        super(WordRNN, self).__init__()\n",
        "        self.model = model.lower()\n",
        "        self.input_size = input_size\n",
        "        self.hidden_size = hidden_size\n",
        "        self.output_size = output_size\n",
        "        self.n_layers = n_layers\n",
        "\n",
        "        self.encoder = nn.Embedding(input_size, hidden_size)\n",
        "        if self.model == \"gru\":\n",
        "            self.rnn = nn.GRU(hidden_size, hidden_size, n_layers)\n",
        "        elif self.model == \"lstm\":\n",
        "            self.rnn = nn.LSTM(hidden_size, hidden_size, n_layers)\n",
        "        self.decoder = nn.Linear(hidden_size, output_size)\n",
        "\n",
        "    def forward(self, input, hidden):\n",
        "        batch_size = input.size(0)\n",
        "        encoded = self.encoder(input)\n",
        "        output, hidden = self.rnn(encoded.view(1, batch_size, -1), hidden)\n",
        "        output = self.decoder(output.view(batch_size, -1))\n",
        "        return output, hidden\n",
        "\n",
        "    def forward2(self, input, hidden):\n",
        "        encoded = self.encoder(input.view(1, -1))\n",
        "        output, hidden = self.rnn(encoded.view(1, 1, -1), hidden)\n",
        "        output = self.decoder(output.view(1, -1))\n",
        "        return output, hidden\n",
        "\n",
        "    def init_hidden(self, batch_size):\n",
        "        if self.model == \"lstm\":\n",
        "            return (Variable(torch.zeros(self.n_layers, batch_size, self.hidden_size)),\n",
        "                    Variable(torch.zeros(self.n_layers, batch_size, self.hidden_size)))\n",
        "        return Variable(torch.zeros(self.n_layers, batch_size, self.hidden_size))"
      ],
      "metadata": {
        "id": "2UzQqjySO_WS"
      },
      "execution_count": null,
      "outputs": []
    },
    {
      "cell_type": "code",
      "source": [
        "# finds all whole words in the random chunk?\n",
        "def findChunk(start_index, chunk_len):\n",
        "    file_chunk = file[start_index:]\n",
        "    # print(\"len(file_chunk)\",len(file_chunk))\n",
        "    special_characters = [' ', ':', '\\n', ',', '.', '?', \"'\", ';', '!', '-', '&']\n",
        "    chunk = []\n",
        "    i = 0\n",
        "    j = 0\n",
        "\n",
        "    while len(chunk) <= chunk_len:\n",
        "    # for i in range(len(text)):\n",
        "        # print(\"i\",i)\n",
        "        char = file_chunk[i]\n",
        "        # print(\"char i\",char,i)\n",
        "        if char in special_characters:\n",
        "            word = file_chunk[j:i]\n",
        "            # print(\"if\",word)\n",
        "            if i == j:\n",
        "                word = file_chunk[j:i+1]\n",
        "                \n",
        "            if char in dictionary:\n",
        "                # print(\"found char:\",char)\n",
        "                chunk.append(char)\n",
        "                \n",
        "            if word in dictionary:\n",
        "                # print(\"found word:\",word)\n",
        "                chunk.append(word)\n",
        "            \n",
        "            j = i+1\n",
        "        i += 1\n",
        "        continue\n",
        "\n",
        "    if len(chunk) > chunk_len+1:\n",
        "        chunk.pop()\n",
        "\n",
        "    return chunk"
      ],
      "metadata": {
        "id": "YogPHoh8PBNZ"
      },
      "execution_count": null,
      "outputs": []
    },
    {
      "cell_type": "code",
      "source": [
        "def random_training_set(chunk_len, batch_size):\n",
        "    inp = torch.LongTensor(batch_size, chunk_len)\n",
        "    target = torch.LongTensor(batch_size, chunk_len)\n",
        "    for bi in range(batch_size):\n",
        "        start_index = random.randint(0, file_len - chunk_len*10)\n",
        "        # end_index = start_index + chunk_len + 1\n",
        "        chunk = findChunk(start_index, chunk_len)\n",
        "        inp[bi] = char_tensor(chunk[:-1])\n",
        "        target[bi] = char_tensor(chunk[1:])\n",
        "    # print(\"inp\",inp)\n",
        "    # print(\"target\",target)\n",
        "    inp = Variable(inp)\n",
        "    target = Variable(target)\n",
        "    if cuda:\n",
        "        inp = inp.cuda()\n",
        "        target = target.cuda()\n",
        "    return inp, target\n",
        "\n",
        "def train(inp, target):\n",
        "    hidden = decoder.init_hidden(batch_size)\n",
        "    if cuda:\n",
        "        hidden = hidden.cuda()\n",
        "    decoder.zero_grad()\n",
        "    loss = 0\n",
        "\n",
        "    for c in range(chunk_len):\n",
        "    # for c in [0]:\n",
        "\n",
        "        # print (\"inp[:,c]:\", inp[:,c])\n",
        "        # print (\"hidden:\",hidden)\n",
        "\n",
        "        output, hidden = decoder(inp[:,c], hidden)\n",
        "        loss += criterion(output.view(batch_size, -1), target[:,c])\n",
        "\n",
        "    loss.backward()\n",
        "    decoder_optimizer.step()\n",
        "\n",
        "    return loss.data.item() / chunk_len\n",
        "\n",
        "def save():\n",
        "    save_filename = os.path.splitext(os.path.basename(filename))[0] + '.pt'\n",
        "    torch.save(decoder, save_filename)\n",
        "    print('Saved as %s' % save_filename)"
      ],
      "metadata": {
        "id": "MhzpO5LDPCph"
      },
      "execution_count": null,
      "outputs": []
    },
    {
      "cell_type": "code",
      "source": [
        "def sentence_tensor(string):\n",
        "    word_tensor = []\n",
        "    special_characters = [' ', ':', '\\n', ',', '.', '?', \"'\", ';', '!', '-', '&']\n",
        "    j = 0\n",
        "    i = 0\n",
        "    while i < len(string):\n",
        "        char = string[i]\n",
        "        if char in special_characters:\n",
        "            word = 0\n",
        "            if i == j:\n",
        "                word = string[j:i+1]\n",
        "                wordInd = dictionary.index(word)\n",
        "                word_tensor.append(wordInd)\n",
        "            else:\n",
        "                word = string[j:i]\n",
        "                wordInd = dictionary.index(word)\n",
        "                charInd = dictionary.index(char)\n",
        "                word_tensor.append(wordInd)\n",
        "                word_tensor.append(charInd)\n",
        "            \n",
        "            j = i+1\n",
        "        i += 1\n",
        "    \n",
        "    if(j != i):\n",
        "        word = string[j:i+1]\n",
        "        wordInd = dictionary.index(word)\n",
        "        word_tensor.append(wordInd)\n",
        "    tensor = torch.tensor(word_tensor).long()\n",
        "    return tensor"
      ],
      "metadata": {
        "id": "79Fd-P61PEah"
      },
      "execution_count": null,
      "outputs": []
    },
    {
      "cell_type": "code",
      "source": [
        "def generate(decoder, prime_str='A', predict_len=100, temperature=0.8, cuda=False):\n",
        "    hidden = decoder.init_hidden(1)\n",
        "    prime_input = Variable(sentence_tensor(prime_str).unsqueeze(1))\n",
        "    predicted = prime_str\n",
        "    \n",
        "    # Use priming string to \"build up\" hidden state\n",
        "    for p in range(len(prime_input) - 1):\n",
        "        inp = torch.unsqueeze(prime_input[p,:], dim=1)\n",
        "        out, hidden = decoder(inp, hidden)\n",
        "    \n",
        "    #hidden = (Variable(hidden[0].detach().to(device)), Variable(hidden[1].detach().to(device)))\n",
        "    \n",
        "    inp = torch.unsqueeze(prime_input[-1,:], dim=1)\n",
        "    \n",
        "    for p in range(predict_len):\n",
        "        output, hidden = decoder(inp, hidden)\n",
        "        \n",
        "        # Sample from the network as a multinomial distribution\n",
        "        output_dist = output.data.view(-1).div(temperature).exp()\n",
        "        top_i = torch.multinomial(output_dist, 1)[0]\n",
        "\n",
        "        # Add predicted character to string and use as next input\n",
        "        predicted_word = dictionary[top_i]\n",
        "        predicted += predicted_word\n",
        "        inp = Variable(sentence_tensor(predicted_word).unsqueeze(1))\n",
        "       \n",
        "        if cuda:\n",
        "            inp = inp.cuda()\n",
        "\n",
        "    return predicted"
      ],
      "metadata": {
        "id": "VOLZKp2APGEL"
      },
      "execution_count": null,
      "outputs": []
    },
    {
      "cell_type": "code",
      "source": [
        "# define args\n",
        "filename = \"shakespeare.txt\"\n",
        "n_epochs = 2000\n",
        "model = \"gru\"\n",
        "print_every = 100\n",
        "hidden_size = 50\n",
        "n_layers = 2\n",
        "learning_rate = 0.01\n",
        "chunk_len = 50\n",
        "batch_size = 100\n",
        "shuffle = True\n",
        "cuda = False\n",
        "\n",
        "n_characters = len(dictionary)\n",
        "\n",
        "file, file_len = read_file(filename)\n",
        "\n",
        "# Initialize models and start training\n",
        "decoder = WordRNN(\n",
        "    n_characters,\n",
        "    hidden_size,\n",
        "    n_characters,\n",
        "    model=model,\n",
        "    n_layers=n_layers,\n",
        ")\n",
        "decoder_optimizer = torch.optim.Adam(decoder.parameters(), lr=learning_rate)\n",
        "criterion = nn.CrossEntropyLoss()"
      ],
      "metadata": {
        "id": "pn2qOyUBPHct"
      },
      "execution_count": null,
      "outputs": []
    },
    {
      "cell_type": "code",
      "source": [
        "if cuda:\n",
        "    decoder.cuda()\n",
        "\n",
        "start = time.time()\n",
        "all_losses = []\n",
        "loss_avg = 0\n",
        "\n",
        "perplexities = []\n",
        "\n",
        "try:\n",
        "    print(\"Training for %d epochs...\" % n_epochs)\n",
        "    for epoch in tqdm(range(1, n_epochs + 1)):\n",
        "        loss = train(*random_training_set(chunk_len, batch_size))\n",
        "        loss_avg += loss\n",
        "        perplexities.append(math.exp(loss))\n",
        "\n",
        "        if epoch % print_every == 0:\n",
        "            print('[%s (%d %d%%) %.4f]' % (time_since(start), epoch, epoch / n_epochs * 100, loss))\n",
        "            print(generate(decoder, 'Who', 100, cuda=cuda), '\\n')\n",
        "\n",
        "    print(\"Saving...\")\n",
        "    save()\n",
        "\n",
        "except KeyboardInterrupt:\n",
        "    print(\"Saving before quit...\")\n",
        "    save()\n",
        "\n",
        "\n",
        "plt.plot(perplexities)\n",
        "plt.ylabel('Perplexity')\n",
        "plt.xlabel('Epoch')\n",
        "plt.show()"
      ],
      "metadata": {
        "colab": {
          "base_uri": "https://localhost:8080/",
          "height": 1000
        },
        "id": "xlWbGqKJPJFq",
        "outputId": "bd72f740-e1ed-44ef-9959-570d9d427f7c"
      },
      "execution_count": null,
      "outputs": [
        {
          "output_type": "stream",
          "name": "stdout",
          "text": [
            "Training for 2000 epochs...\n"
          ]
        },
        {
          "output_type": "stream",
          "name": "stderr",
          "text": [
            "  5%|▌         | 100/2000 [02:32<44:45,  1.41s/it]"
          ]
        },
        {
          "output_type": "stream",
          "name": "stdout",
          "text": [
            "[2m 31s (100 5%) 3.9829]\n",
            "WhopentunavoideddroppercurrishmountinstigationmurderersSaddleforetells his\n",
            "your\n",
            "  \n",
            "   in    \n",
            "' 'Ready .\n",
            " fair in\n",
            "famine,to   \n",
            " at      !my And \n",
            ",here\n",
            "  will   ,this his \n",
            " your Can  r,I:and \n",
            " \n",
            " d in EDWARD  \n",
            "   \n",
            "\n"
          ]
        },
        {
          "output_type": "stream",
          "name": "stderr",
          "text": [
            " 10%|█         | 200/2000 [04:57<48:26,  1.61s/it]"
          ]
        },
        {
          "output_type": "stream",
          "name": "stdout",
          "text": [
            "[4m 57s (200 10%) 3.8380]\n",
            "WhobarricadoscolddrumsindifferentlypredecessorschurchmencomelybreederObedienceEnrichUncharitablyfamishBredtrapptetchyoratorOxfordshireblotsgenerations  on   and\n",
            "  night\n",
            "\n",
            "\n",
            "\n",
            " she\n",
            "a you\n",
            "\n",
            " more get hear\n",
            "\n",
            "'be so then       or   so and may country he yours be,win\n",
            " \n",
            "  II   the And comest\n",
            " ,forth \n",
            "\n"
          ]
        },
        {
          "output_type": "stream",
          "name": "stderr",
          "text": [
            " 15%|█▌        | 300/2000 [07:22<40:40,  1.44s/it]"
          ]
        },
        {
          "output_type": "stream",
          "name": "stdout",
          "text": [
            "[7m 21s (300 15%) 3.6157]\n",
            "Whoshootsewinggottenaskance  villain d.I .the   be\n",
            "my slew\n",
            "me as\n",
            "I so\n",
            "have'How They noble\n",
            "thou \n",
            "   you O to you\n",
            "From,to\n",
            " \n",
            ", ,be   thee contrive:GRUMIO   gentle\n",
            "fear,there'\n",
            "\n",
            "\n",
            "   I\n",
            "so that I CORIOLANUS;me    \n",
            "\n"
          ]
        },
        {
          "output_type": "stream",
          "name": "stderr",
          "text": [
            " 20%|██        | 400/2000 [09:45<37:48,  1.42s/it]"
          ]
        },
        {
          "output_type": "stream",
          "name": "stdout",
          "text": [
            "[9m 45s (400 20%) 3.5505]\n",
            "Whountruthsometimeunbowr   in the   er not thy be,The  .and  \n",
            "found gone\n",
            "port\n",
            "not Citizen\n",
            " \n",
            "\n",
            " I cause night I it my my You RICHARD the Johns I\n",
            "your is and\n",
            "their , \n",
            "\n",
            "  us\n",
            "have the,that  'follows RICHARD\n",
            "your\n",
            "life  \n",
            "\n"
          ]
        },
        {
          "output_type": "stream",
          "name": "stderr",
          "text": [
            " 25%|██▌       | 500/2000 [12:12<38:04,  1.52s/it]"
          ]
        },
        {
          "output_type": "stream",
          "name": "stdout",
          "text": [
            "[12m 12s (500 25%) 3.4653]\n",
            "WhoRememberspouseaidlesssurceaseshepherdstrudgefifthfeelinglyo:\n",
            "  \n",
            "To\n",
            "with of\n",
            "is be his And\n",
            "Where Whitsun my the\n",
            "curse\n",
            "with\n",
            "How And and with a our;it  \n",
            "If it you Being\n",
            "nor make sweetheart and you:This   do O any\n",
            "he ' their,the  .the  \n",
            "is\n",
            " \n",
            "\n"
          ]
        },
        {
          "output_type": "stream",
          "name": "stderr",
          "text": [
            " 30%|███       | 600/2000 [14:37<35:20,  1.51s/it]"
          ]
        },
        {
          "output_type": "stream",
          "name": "stdout",
          "text": [
            "[14m 37s (600 30%) 3.4219]\n",
            "Whozodiacscleansedfortifyed\n",
            "\n",
            "\n",
            "\n",
            "\n",
            "\n",
            "\n",
            ".e\n",
            "\n",
            "\n",
            ":The:\n",
            "\n",
            "\n",
            "\n",
            ":O\n",
            "\n",
            "\n",
            "\n",
            ":the\n",
            "\n",
            "\n",
            "\n",
            "\n",
            "\n",
            ":And\n",
            " \n",
            "I\n",
            "mechanics\n",
            "thee can Shall by your s the Come\n",
            "\n",
            " sorrow of to\n",
            "Come of,power\n",
            " \n",
            ".aspect !\n",
            "that\n",
            "smallest sleep not Farewell ask be?to: \n",
            "\n"
          ]
        },
        {
          "output_type": "stream",
          "name": "stderr",
          "text": [
            " 35%|███▌      | 700/2000 [17:00<31:12,  1.44s/it]"
          ]
        },
        {
          "output_type": "stream",
          "name": "stdout",
          "text": [
            "[17m 0s (700 35%) 3.4162]\n",
            "Whoconsequencemarvellcrossedruddinessr\n",
            "\n",
            "\n",
            "\n",
            "\n",
            "\n",
            "\n",
            "\n",
            "\n",
            "\n",
            "\n",
            "\n",
            "\n",
            "\n",
            "\n",
            "\n",
            "\n",
            "\n",
            "\n",
            "\n",
            "\n",
            "\n",
            "\n",
            "\n",
            "\n",
            "\n",
            "\n",
            "\n",
            "et\n",
            "If\n",
            "catch the\n",
            "my,re\n",
            "\n",
            ",this.\n",
            "\n",
            "\n",
            "\n",
            "\n",
            "\n",
            "\n",
            "\n",
            "\n",
            "\n",
            "\n",
            "\n",
            "\n",
            "\n",
            "\n",
            "\n",
            "\n",
            "\n",
            "\n",
            ",me\n",
            "!our t\n",
            "this To he\n",
            "lands\n",
            "shall Stands A wife thee Gentlemen fear That  \n",
            "\n"
          ]
        },
        {
          "output_type": "stream",
          "name": "stderr",
          "text": [
            " 40%|████      | 800/2000 [19:25<28:13,  1.41s/it]"
          ]
        },
        {
          "output_type": "stream",
          "name": "stdout",
          "text": [
            "[19m 25s (800 40%) 3.4119]\n",
            "WhoHelenan'I.LEONTES\n",
            ":\n",
            "\n",
            "\n",
            "\n",
            "\n",
            "\n",
            "\n",
            "\n",
            "\n",
            "\n",
            "\n",
            "\n",
            "\n",
            ":Can\n",
            "That:ale\n",
            "\n",
            "\n",
            "\n",
            "\n",
            "\n",
            "\n",
            ",And  \n",
            "my his bloody sir until?way\n",
            "\n",
            "\n",
            "\n",
            "\n",
            "\n",
            " s That,away   the my thither,Bristol   the;alone\n",
            " \n",
            ",to   time not it in\n",
            "she\n",
            "let I  \n",
            "\n"
          ]
        },
        {
          "output_type": "stream",
          "name": "stderr",
          "text": [
            " 45%|████▌     | 900/2000 [21:51<29:25,  1.61s/it]"
          ]
        },
        {
          "output_type": "stream",
          "name": "stdout",
          "text": [
            "[21m 51s (900 45%) 3.3670]\n",
            "Whoshoedotedragonsboastse\n",
            "\n",
            "\n",
            "\n",
            "\n",
            "\n",
            "\n",
            "\n",
            "\n",
            "\n",
            "\n",
            "\n",
            "\n",
            ":And:\n",
            "\n",
            "\n",
            "\n",
            "\n",
            "\n",
            " charge\n",
            "prick\n",
            "and\n",
            "O.In\n",
            "\n",
            "\n",
            "\n",
            ":And \n",
            ":Even.  \n",
            "And the of thee We this on own on.VINCENTIO\n",
            "\n",
            "\n",
            "\n",
            "\n",
            "\n",
            "\n",
            "\n",
            " my s that\n",
            " !ELIZABETH  \n",
            "down Why,most ,until  \n",
            "\n"
          ]
        },
        {
          "output_type": "stream",
          "name": "stderr",
          "text": [
            " 50%|█████     | 1000/2000 [24:15<24:50,  1.49s/it]"
          ]
        },
        {
          "output_type": "stream",
          "name": "stdout",
          "text": [
            "[24m 15s (1000 50%) 3.2838]\n",
            "WhoAUFIDIUSdealingsdrawnm\n",
            "\n",
            "\n",
            "\n",
            " we\n",
            "Is\n",
            "I own There\n",
            "this sith\n",
            "my upper\n",
            "eager,my  \n",
            "and myo,them   s!pounds;\n",
            " \n",
            "\n",
            " and than a of- not sir then,I\n",
            "\n",
            " wealth\n",
            " the and\n",
            "With high\n",
            "That,that   mothers my,quam\n",
            "\n",
            "\n",
            "\n",
            "\n",
            ":I  \n",
            "\n"
          ]
        },
        {
          "output_type": "stream",
          "name": "stderr",
          "text": [
            " 55%|█████▌    | 1100/2000 [26:40<20:56,  1.40s/it]"
          ]
        },
        {
          "output_type": "stream",
          "name": "stdout",
          "text": [
            "[26m 40s (1100 55%) 3.2113]\n",
            "WhofitnessVouchsafeUnlawfullyreftstepsVexMeltingmcomingHidestMarcianssharpscompaniese\n",
            "\n",
            "\n",
            "\n",
            ":And\n",
            "\n",
            "\n",
            "\n",
            ":And:\n",
            "\n",
            "\n",
            "\n",
            "\n",
            " And'precise loss Make\n",
            "To the gate\n",
            "Or Gentleman than,this   To feels;be   as,cannot   of\n",
            "and as they saucy,alone\n",
            "\n",
            " violet has,shroud   By and and.arrest \n",
            "\n"
          ]
        },
        {
          "output_type": "stream",
          "name": "stderr",
          "text": [
            " 60%|██████    | 1200/2000 [29:04<18:39,  1.40s/it]"
          ]
        },
        {
          "output_type": "stream",
          "name": "stdout",
          "text": [
            "[29m 4s (1200 60%) 3.1851]\n",
            "WhoPinsblotspaintere:their\n",
            "\n",
            " That have your For r gesture to make\n",
            "Angelica them And of endless,now\n",
            "\n",
            " to That and my boar THOMAS That to merriment a amongst the\n",
            "trim love And from of That for\n",
            "ean'r Misguide makes a My,Insolent\n",
            "\n",
            " my true And'disburden \n",
            "\n"
          ]
        },
        {
          "output_type": "stream",
          "name": "stderr",
          "text": [
            " 65%|██████▌   | 1300/2000 [31:30<18:12,  1.56s/it]"
          ]
        },
        {
          "output_type": "stream",
          "name": "stdout",
          "text": [
            "[31m 30s (1300 65%) 3.0633]\n",
            "WhoGraciouscollarsm   and to\n",
            "men issue As or the and'\n",
            "\n",
            " to bear a will Your but are of the\n",
            "together a service to you She you.him\n",
            "\n",
            "\n",
            "\n",
            " Be is,lost   and how let That the I you in.come\n",
            "\n",
            "\n",
            "\n",
            ":Nurse\n",
            "\n",
            ":me   \n",
            "\n"
          ]
        },
        {
          "output_type": "stream",
          "name": "stderr",
          "text": [
            " 70%|███████   | 1400/2000 [33:54<14:23,  1.44s/it]"
          ]
        },
        {
          "output_type": "stream",
          "name": "stdout",
          "text": [
            "[33m 54s (1400 70%) 3.1081]\n",
            "WhosavagenessYouprotect;\n",
            "\n",
            "\n",
            " And should my habiliments the man your hate,odd\n",
            "\n",
            " But virtuous as heart The ,demands   my blood the.coming\n",
            "\n",
            "\n",
            "\n",
            ":YORK\n",
            "\n",
            " Here gait by what,marry   but of call fool And\n",
            "argument not like I more to forsworn is both by \n",
            "\n"
          ]
        },
        {
          "output_type": "stream",
          "name": "stderr",
          "text": [
            " 75%|███████▌  | 1500/2000 [36:17<11:37,  1.40s/it]"
          ]
        },
        {
          "output_type": "stream",
          "name": "stdout",
          "text": [
            "[36m 17s (1500 75%) 2.9920]\n",
            "WhoEraveningshrugsobriveSormusclescertapestryr\n",
            "And,And,\n",
            "\n",
            "\n",
            " And And And And For And To so As,din\n",
            "\n",
            " And And'In s,goddess ,\n",
            "\n",
            " For And And Let And And And That And And That For And Is And\n",
            "by And For For And And And \n",
            "\n"
          ]
        },
        {
          "output_type": "stream",
          "name": "stderr",
          "text": [
            " 80%|████████  | 1600/2000 [38:41<09:10,  1.38s/it]"
          ]
        },
        {
          "output_type": "stream",
          "name": "stdout",
          "text": [
            "[38m 41s (1600 80%) 2.9963]\n",
            "WhoscentspreadingoursswallowedbecomestpriceEEqualCleargarment\n",
            "Ay And Then The me For That.morrow\n",
            "\n",
            ",death  ,Then ,linger   I devise I and sake,Nay\n",
            "\n",
            " Which my heard I thee and more by\n",
            "be But she From in Harry thou my,Polixenes   If for\n",
            "I thy hand  \n",
            "\n"
          ]
        },
        {
          "output_type": "stream",
          "name": "stderr",
          "text": [
            " 85%|████████▌ | 1700/2000 [41:04<07:26,  1.49s/it]"
          ]
        },
        {
          "output_type": "stream",
          "name": "stdout",
          "text": [
            "[41m 4s (1700 85%) 3.0041]\n",
            "WhoFoulEmbarquementsAndMakeWhybeweptSupposingSospawnedmarchesr  ,him,\n",
            "\n",
            ",Now   you The own presenteth And so thy,grumblings   know\n",
            "For To cordial,number   nor unlawful.sleep\n",
            "\n",
            " In it have have this?king\n",
            "\n",
            "\n",
            "\n",
            ":LEONTES\n",
            "\n",
            " I and?her\n",
            "\n",
            "\n",
            "\n",
            " the does him the sir \n",
            "\n"
          ]
        },
        {
          "output_type": "stream",
          "name": "stderr",
          "text": [
            " 90%|█████████ | 1800/2000 [43:29<05:04,  1.52s/it]"
          ]
        },
        {
          "output_type": "stream",
          "name": "stdout",
          "text": [
            "[43m 29s (1800 90%) 3.0086]\n",
            "Whoechocurdiedtemperatead\n",
            "No,O   you Our master and any a\n",
            "good as before for As of no\n",
            "find and is this best soon the;foes   the,Well   and I\n",
            "but And trod which enter in.great\n",
            "\n",
            "\n",
            "\n",
            ":Clown\n",
            "\n",
            ",Now   a   I to to \n",
            "\n"
          ]
        },
        {
          "output_type": "stream",
          "name": "stderr",
          "text": [
            " 95%|█████████▌| 1900/2000 [45:53<02:25,  1.46s/it]"
          ]
        },
        {
          "output_type": "stream",
          "name": "stdout",
          "text": [
            "[45m 52s (1900 95%) 2.9690]\n",
            "WhoUnhappyYetAndIfBeStepMaliciouslyapsoughtr\n",
            "\n",
            " And But in waking to with liberties But And But Therefore That,Jewry\n",
            "\n",
            " And,suggest   as And himself\n",
            "wrath both That Your - And doth For And wind For And my\n",
            "tongue And Than him,time  .common,\n",
            "\n",
            "\n",
            " For his \n",
            "\n"
          ]
        },
        {
          "output_type": "stream",
          "name": "stderr",
          "text": [
            "100%|██████████| 2000/2000 [48:17<00:00,  1.45s/it]"
          ]
        },
        {
          "output_type": "stream",
          "name": "stdout",
          "text": [
            "[48m 16s (2000 100%) 2.8773]\n",
            "WhoNobletriper\n",
            "\n",
            "\n",
            "\n",
            ":GLOUCESTER\n",
            "\n",
            ":Nay :Then   I is:lord,\n",
            "\n",
            "\n",
            " I confidence' ll they:what  :done:\n",
            "\n",
            "\n",
            " That kill,Immaculate   as I if rebel\n",
            "There:Warwick   and God I I whom us\n",
            "Half kept,presses  ,master,\n",
            "\n",
            "\n",
            " To much  \n",
            "\n",
            "Saving...\n",
            "Saved as shakespeare.pt\n"
          ]
        },
        {
          "output_type": "stream",
          "name": "stderr",
          "text": [
            "\n"
          ]
        },
        {
          "output_type": "display_data",
          "data": {
            "text/plain": [
              "<Figure size 640x480 with 1 Axes>"
            ],
            "image/png": "[encoded data removed]"
          },
          "metadata": {}
        }
      ]
    },
    {
      "cell_type": "code",
      "source": [
        "# if we ignore some of the first epochs we get a much clearer graph\n",
        "plt.plot(perplexities[10:])\n",
        "plt.ylabel('Perplexity')\n",
        "plt.xlabel('Epoch')\n",
        "plt.show()"
      ],
      "metadata": {
        "colab": {
          "base_uri": "https://localhost:8080/",
          "height": 449
        },
        "id": "yaHI-5iYPO9G",
        "outputId": "45f607b4-43f4-4789-e683-d35dad632144"
      },
      "execution_count": null,
      "outputs": [
        {
          "output_type": "display_data",
          "data": {
            "text/plain": [
              "<Figure size 640x480 with 1 Axes>"
            ],
            "image/png": "[encoded data removed]"
          },
          "metadata": {}
        }
      ]
    },
    {
      "cell_type": "code",
      "source": [
        "import string\n",
        "import random\n",
        "\n",
        "def randomString(len):\n",
        "    s = \"\"\n",
        "    for i in range(len):\n",
        "        s = s + random.choice(string.printable)\n",
        "    return s"
      ],
      "metadata": {
        "id": "U1_6CDMXPQir"
      },
      "execution_count": null,
      "outputs": []
    },
    {
      "cell_type": "code",
      "source": [
        "decoder = torch.load(\"shakespeare.pt\")\n",
        "\n",
        "with open('task4_the.txt', 'w') as f:\n",
        "    for i in range(3):\n",
        "        prime_string = \"The\"\n",
        "        f.write(\"====== Prime string: \" +prime_string + \" ======\\n\")\n",
        "        f.write(generate(decoder, prime_str=prime_string))\n",
        "        f.write(\"\\n\\n\")"
      ],
      "metadata": {
        "id": "owJpr0UJPRhU"
      },
      "execution_count": null,
      "outputs": []
    },
    {
      "cell_type": "code",
      "source": [
        "with open('task4_dot.txt', 'w') as f:\n",
        "    for i in range(3):\n",
        "        prime_string = \".\"\n",
        "        f.write(\"====== Prime string: \" + prime_string +\" ======\\n\")\n",
        "        f.write(generate(decoder, prime_str=prime_string))\n",
        "        f.write(\"\\n\\n\")"
      ],
      "metadata": {
        "id": "GqBXj8VWPSej"
      },
      "execution_count": null,
      "outputs": []
    },
    {
      "cell_type": "code",
      "source": [
        "with open('task4_which.txt', 'w') as f:\n",
        "    for i in range(3):\n",
        "        prime_string = \"which is,\"\n",
        "        f.write(\"====== Prime string: \" + prime_string +\" ======\\n\")\n",
        "        f.write(generate(decoder, prime_str=prime_string))\n",
        "        f.write(\"\\n\\n\")"
      ],
      "metadata": {
        "id": "6pyvvmXCPTlK"
      },
      "execution_count": null,
      "outputs": []
    },
    {
      "cell_type": "code",
      "source": [
        "with open('task4_blah.txt', 'w') as f:\n",
        "    for i in range(3):\n",
        "        prime_string = \"blah blah blah\"\n",
        "        f.write(\"====== Prime string: \"+ prime_string + \" ======\\n\")\n",
        "        f.write(generate(decoder, prime_str=prime_string))\n",
        "        f.write(\"\\n\\n\")"
      ],
      "metadata": {
        "colab": {
          "base_uri": "https://localhost:8080/",
          "height": 363
        },
        "id": "Ye45NCJ6PUlr",
        "outputId": "68873482-3880-43c6-f90b-8789e74ebe15"
      },
      "execution_count": null,
      "outputs": [
        {
          "output_type": "error",
          "ename": "ValueError",
          "evalue": "ignored",
          "traceback": [
            "\u001b[0;31m---------------------------------------------------------------------------\u001b[0m",
            "\u001b[0;31mValueError\u001b[0m                                Traceback (most recent call last)",
            "\u001b[0;32m<ipython-input-18-91aa20602b4a>\u001b[0m in \u001b[0;36m<cell line: 1>\u001b[0;34m()\u001b[0m\n\u001b[1;32m      3\u001b[0m         \u001b[0mprime_string\u001b[0m \u001b[0;34m=\u001b[0m \u001b[0;34m\"blah blah blah\"\u001b[0m\u001b[0;34m\u001b[0m\u001b[0;34m\u001b[0m\u001b[0m\n\u001b[1;32m      4\u001b[0m         \u001b[0mf\u001b[0m\u001b[0;34m.\u001b[0m\u001b[0mwrite\u001b[0m\u001b[0;34m(\u001b[0m\u001b[0;34m\"====== Prime string: \"\u001b[0m\u001b[0;34m+\u001b[0m \u001b[0mprime_string\u001b[0m \u001b[0;34m+\u001b[0m \u001b[0;34m\" ======\\n\"\u001b[0m\u001b[0;34m)\u001b[0m\u001b[0;34m\u001b[0m\u001b[0;34m\u001b[0m\u001b[0m\n\u001b[0;32m----> 5\u001b[0;31m         \u001b[0mf\u001b[0m\u001b[0;34m.\u001b[0m\u001b[0mwrite\u001b[0m\u001b[0;34m(\u001b[0m\u001b[0mgenerate\u001b[0m\u001b[0;34m(\u001b[0m\u001b[0mdecoder\u001b[0m\u001b[0;34m,\u001b[0m \u001b[0mprime_str\u001b[0m\u001b[0;34m=\u001b[0m\u001b[0mprime_string\u001b[0m\u001b[0;34m)\u001b[0m\u001b[0;34m)\u001b[0m\u001b[0;34m\u001b[0m\u001b[0;34m\u001b[0m\u001b[0m\n\u001b[0m\u001b[1;32m      6\u001b[0m         \u001b[0mf\u001b[0m\u001b[0;34m.\u001b[0m\u001b[0mwrite\u001b[0m\u001b[0;34m(\u001b[0m\u001b[0;34m\"\\n\\n\"\u001b[0m\u001b[0;34m)\u001b[0m\u001b[0;34m\u001b[0m\u001b[0;34m\u001b[0m\u001b[0m\n",
            "\u001b[0;32m<ipython-input-10-72593cb3f7e2>\u001b[0m in \u001b[0;36mgenerate\u001b[0;34m(decoder, prime_str, predict_len, temperature, cuda)\u001b[0m\n\u001b[1;32m      1\u001b[0m \u001b[0;32mdef\u001b[0m \u001b[0mgenerate\u001b[0m\u001b[0;34m(\u001b[0m\u001b[0mdecoder\u001b[0m\u001b[0;34m,\u001b[0m \u001b[0mprime_str\u001b[0m\u001b[0;34m=\u001b[0m\u001b[0;34m'A'\u001b[0m\u001b[0;34m,\u001b[0m \u001b[0mpredict_len\u001b[0m\u001b[0;34m=\u001b[0m\u001b[0;36m100\u001b[0m\u001b[0;34m,\u001b[0m \u001b[0mtemperature\u001b[0m\u001b[0;34m=\u001b[0m\u001b[0;36m0.8\u001b[0m\u001b[0;34m,\u001b[0m \u001b[0mcuda\u001b[0m\u001b[0;34m=\u001b[0m\u001b[0;32mFalse\u001b[0m\u001b[0;34m)\u001b[0m\u001b[0;34m:\u001b[0m\u001b[0;34m\u001b[0m\u001b[0;34m\u001b[0m\u001b[0m\n\u001b[1;32m      2\u001b[0m     \u001b[0mhidden\u001b[0m \u001b[0;34m=\u001b[0m \u001b[0mdecoder\u001b[0m\u001b[0;34m.\u001b[0m\u001b[0minit_hidden\u001b[0m\u001b[0;34m(\u001b[0m\u001b[0;36m1\u001b[0m\u001b[0;34m)\u001b[0m\u001b[0;34m\u001b[0m\u001b[0;34m\u001b[0m\u001b[0m\n\u001b[0;32m----> 3\u001b[0;31m     \u001b[0mprime_input\u001b[0m \u001b[0;34m=\u001b[0m \u001b[0mVariable\u001b[0m\u001b[0;34m(\u001b[0m\u001b[0msentence_tensor\u001b[0m\u001b[0;34m(\u001b[0m\u001b[0mprime_str\u001b[0m\u001b[0;34m)\u001b[0m\u001b[0;34m.\u001b[0m\u001b[0munsqueeze\u001b[0m\u001b[0;34m(\u001b[0m\u001b[0;36m1\u001b[0m\u001b[0;34m)\u001b[0m\u001b[0;34m)\u001b[0m\u001b[0;34m\u001b[0m\u001b[0;34m\u001b[0m\u001b[0m\n\u001b[0m\u001b[1;32m      4\u001b[0m     \u001b[0mpredicted\u001b[0m \u001b[0;34m=\u001b[0m \u001b[0mprime_str\u001b[0m\u001b[0;34m\u001b[0m\u001b[0;34m\u001b[0m\u001b[0m\n\u001b[1;32m      5\u001b[0m \u001b[0;34m\u001b[0m\u001b[0m\n",
            "\u001b[0;32m<ipython-input-9-6b04edbbb278>\u001b[0m in \u001b[0;36msentence_tensor\u001b[0;34m(string)\u001b[0m\n\u001b[1;32m     14\u001b[0m             \u001b[0;32melse\u001b[0m\u001b[0;34m:\u001b[0m\u001b[0;34m\u001b[0m\u001b[0;34m\u001b[0m\u001b[0m\n\u001b[1;32m     15\u001b[0m                 \u001b[0mword\u001b[0m \u001b[0;34m=\u001b[0m \u001b[0mstring\u001b[0m\u001b[0;34m[\u001b[0m\u001b[0mj\u001b[0m\u001b[0;34m:\u001b[0m\u001b[0mi\u001b[0m\u001b[0;34m]\u001b[0m\u001b[0;34m\u001b[0m\u001b[0;34m\u001b[0m\u001b[0m\n\u001b[0;32m---> 16\u001b[0;31m                 \u001b[0mwordInd\u001b[0m \u001b[0;34m=\u001b[0m \u001b[0mdictionary\u001b[0m\u001b[0;34m.\u001b[0m\u001b[0mindex\u001b[0m\u001b[0;34m(\u001b[0m\u001b[0mword\u001b[0m\u001b[0;34m)\u001b[0m\u001b[0;34m\u001b[0m\u001b[0;34m\u001b[0m\u001b[0m\n\u001b[0m\u001b[1;32m     17\u001b[0m                 \u001b[0mcharInd\u001b[0m \u001b[0;34m=\u001b[0m \u001b[0mdictionary\u001b[0m\u001b[0;34m.\u001b[0m\u001b[0mindex\u001b[0m\u001b[0;34m(\u001b[0m\u001b[0mchar\u001b[0m\u001b[0;34m)\u001b[0m\u001b[0;34m\u001b[0m\u001b[0;34m\u001b[0m\u001b[0m\n\u001b[1;32m     18\u001b[0m                 \u001b[0mword_tensor\u001b[0m\u001b[0;34m.\u001b[0m\u001b[0mappend\u001b[0m\u001b[0;34m(\u001b[0m\u001b[0mwordInd\u001b[0m\u001b[0;34m)\u001b[0m\u001b[0;34m\u001b[0m\u001b[0;34m\u001b[0m\u001b[0m\n",
            "\u001b[0;31mValueError\u001b[0m: 'blah' is not in list"
          ]
        }
      ]
    }
  ]
}